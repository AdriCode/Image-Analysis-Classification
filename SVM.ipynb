{
 "cells": [
  {
   "cell_type": "code",
   "execution_count": 1,
   "metadata": {},
   "outputs": [],
   "source": [
    "%matplotlib inline\n",
    "import matplotlib.pyplot as plt\n",
    "from matplotlib import style\n",
    "import numpy as np\n",
    "from sklearn.datasets import dump_svmlight_file\n",
    "from svm import *\n",
    "from svmutil import *"
   ]
  },
  {
   "cell_type": "code",
   "execution_count": 2,
   "metadata": {},
   "outputs": [],
   "source": [
    "#Loading the data\n",
    "\n",
    "trainInput = np.loadtxt(\"trainInputBinary.csv\")\n",
    "trainTarget = np.loadtxt(\"trainTargetBinary.csv\")\n",
    "testInput = np.loadtxt(\"testInputBinary.csv\")\n",
    "testTarget = np.loadtxt(\"testTargetBinary.csv\")"
   ]
  },
  {
   "cell_type": "code",
   "execution_count": 3,
   "metadata": {},
   "outputs": [
    {
     "name": "stdout",
     "output_type": "stream",
     "text": [
      "Train set shape:  (297, 186)\n",
      "Train labels size:  (297,)\n",
      "Test set shape:  (231, 186)\n",
      "Test labels size:  (231,)\n"
     ]
    }
   ],
   "source": [
    "print('Train set shape: ', trainInput.shape); print('Train labels size: ', trainTarget.shape)\n",
    "print('Test set shape: ', testInput.shape); print('Test labels size: ', testTarget.shape)"
   ]
  },
  {
   "cell_type": "code",
   "execution_count": 4,
   "metadata": {},
   "outputs": [],
   "source": [
    "# Gaussian kernel: exp(−γ|x−z|2)\n",
    "\n",
    "from statistics import median\n",
    "\n",
    "x = trainInput\n",
    "y = trainTarget\n",
    "\n",
    "def distance(x,y):   \n",
    "    return np.sqrt(np.sum((x-y)**2))\n",
    "\n",
    "# Jaakkola’s heuristic to estimate a good value for alpha, consider for every training sample \n",
    "def jaakkola(x,y):\n",
    "    distances = []\n",
    "    dist_min = 1\n",
    "    for i in range(x.shape[0]):\n",
    "        for j in range(x.shape[0]):\n",
    "            if y[i] != y[j]:\n",
    "                dist = distance(x[i,:], x[j,:])\n",
    "                if dist < dist_min:\n",
    "                    dist_min = dist\n",
    "        distances.append(dist_min)\n",
    "    \n",
    "    return median(distances), distances\n",
    "\n",
    "alpha, d = jaakkola(x, y)"
   ]
  },
  {
   "cell_type": "code",
   "execution_count": 5,
   "metadata": {},
   "outputs": [
    {
     "data": {
      "text/plain": [
       "0.1110425510347691"
      ]
     },
     "execution_count": 5,
     "metadata": {},
     "output_type": "execute_result"
    }
   ],
   "source": [
    "alpha"
   ]
  },
  {
   "cell_type": "code",
   "execution_count": 6,
   "metadata": {},
   "outputs": [],
   "source": [
    "# Converting the data to libsvm format\n",
    "dump_svmlight_file(trainInput, trainTarget,'train.dat', zero_based=False, multilabel=False)\n",
    "dump_svmlight_file(testInput, testTarget,'test.dat')"
   ]
  },
  {
   "cell_type": "code",
   "execution_count": 7,
   "metadata": {},
   "outputs": [
    {
     "name": "stdout",
     "output_type": "stream",
     "text": [
      "Accuracy = 84.1751% (250/297) (classification)\n",
      "Accuracy = 84.1751% (250/297) (classification)\n",
      "Accuracy = 84.1751% (250/297) (classification)\n",
      "Accuracy = 84.1751% (250/297) (classification)\n",
      "Accuracy = 84.1751% (250/297) (classification)\n",
      "Accuracy = 90.9091% (270/297) (classification)\n",
      "Accuracy = 98.3165% (292/297) (classification)\n",
      "Accuracy = 99.6633% (296/297) (classification)\n",
      "C: 10000 , gamma: 0.111 , MSE: 0.017 , Accuracy: 99.66329966329967\n"
     ]
    }
   ],
   "source": [
    "# Binary classiﬁcation using support vector machines and Libsvm library\n",
    "\n",
    "y, x = svm_read_problem('train.dat')\n",
    "\n",
    "c = [0.001, 0.01, 0.1, 1, 10, 100, 1000, 10000]; g = round(alpha, 3)\n",
    "prob  = svm_problem(y, x)\n",
    "param = svm_parameter()\n",
    "best = 1\n",
    "err = []\n",
    "\n",
    "# Grid-search to determine the SVM hyperparameters γ and C. \n",
    "for i in range(len(c)):\n",
    "    param.C = c[i]; param.G = g; \n",
    "    model = svm_train(prob, param, '-v 5')\n",
    "    p_label, p_acc, p_val = svm_predict(y, x, model)\n",
    "    err.append(p_acc[1])\n",
    "    mse = p_acc[1]\n",
    "    if (mse < best):\n",
    "        bestc = c[i]; bestg = g; min_err = round(best, 3) ; best = round(mse, 3) ; acc=p_acc[0]\n",
    "\n",
    "print('C:', bestc, ', gamma:', bestg, ', MSE:', min_err, ', Accuracy:', acc)"
   ]
  },
  {
   "cell_type": "code",
   "execution_count": 8,
   "metadata": {},
   "outputs": [],
   "source": [
    "def run(y, x, model):\n",
    "    p_label, p_acc, p_val = svm_predict(y, x, model)\n",
    "    return p_label, p_acc, p_val"
   ]
  },
  {
   "cell_type": "code",
   "execution_count": 9,
   "metadata": {},
   "outputs": [
    {
     "name": "stdout",
     "output_type": "stream",
     "text": [
      "Accuracy = 99.6633% (296/297) (classification)\n",
      "MSE Train:  0.003\n"
     ]
    }
   ],
   "source": [
    "# Training with best pair C & gamma found\n",
    "\n",
    "y_train, x_train = svm_read_problem('train.dat')\n",
    "pb = svm_problem(y_train, x_train)\n",
    "param = svm_parameter()\n",
    "param.C=bestc; param.G=bestg\n",
    "m = svm_train(pb, param)\n",
    "\n",
    "labels, acc, vals = run(y_train, x_train, m)\n",
    "print(\"MSE Train: \", round(acc[1], 3))"
   ]
  },
  {
   "cell_type": "code",
   "execution_count": 10,
   "metadata": {},
   "outputs": [
    {
     "name": "stdout",
     "output_type": "stream",
     "text": [
      "Accuracy = 86.5801% (200/231) (classification)\n",
      "MSE test:  0.134\n"
     ]
    }
   ],
   "source": [
    "# Model in Test\n",
    "\n",
    "y_test, x_test = svm_read_problem('test.dat')\n",
    "lab, ac, val= run(y_test, x_test, m)\n",
    "print(\"MSE test: \", round(ac[1], 3))"
   ]
  },
  {
   "cell_type": "code",
   "execution_count": 11,
   "metadata": {},
   "outputs": [
    {
     "data": {
      "image/png": "[encoded data removed]",
      "text/plain": [
       "<Figure size 576x396 with 1 Axes>"
      ]
     },
     "metadata": {},
     "output_type": "display_data"
    }
   ],
   "source": [
    "labels = ['C: ' + str(c[i]) + ', ' + 'g: ' + str(g) for i in range(len(c))]\n",
    "x = list(range(1,len(c)+1))\n",
    "\n",
    "style.use('seaborn')\n",
    "plt.xticks(x, labels, rotation=80, fontsize=11)\n",
    "plt.ylabel(\"Mean Squared Error (MSE)\", fontsize=11)\n",
    "plt.plot(x, err, c='c', marker='o')\n",
    "plt.title('SVM model selection with 5-CVfolds', fontsize=13)\n",
    "plt.xlim([0.5, 9])\n",
    "plt.ylim([-0.02, 0.18])\n",
    "plt.show();"
   ]
  },
  {
   "cell_type": "code",
   "execution_count": null,
   "metadata": {},
   "outputs": [],
   "source": []
  }
 ],
 "metadata": {
  "kernelspec": {
   "display_name": "Python 3",
   "language": "python",
   "name": "python3"
  },
  "language_info": {
   "codemirror_mode": {
    "name": "ipython",
    "version": 3
   },
   "file_extension": ".py",
   "mimetype": "text/x-python",
   "name": "python",
   "nbconvert_exporter": "python",
   "pygments_lexer": "ipython3",
   "version": "3.6.5"
  }
 },
 "nbformat": 4,
 "nbformat_minor": 2
}
