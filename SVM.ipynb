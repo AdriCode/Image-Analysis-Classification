{
 "cells": [
  {
   "cell_type": "code",
   "execution_count": 1,
   "metadata": {},
   "outputs": [],
   "source": [
    "%matplotlib inline\n",
    "import matplotlib.pyplot as plt\n",
    "from matplotlib import style\n",
    "import numpy as np\n",
    "from sklearn.datasets import dump_svmlight_file\n",
    "from svm import *\n",
    "from svmutil import *"
   ]
  },
  {
   "cell_type": "code",
   "execution_count": 2,
   "metadata": {},
   "outputs": [],
   "source": [
    "# Loading the data\n",
    "\n",
    "trainInput = np.loadtxt(\"trainInputBinary.csv\")\n",
    "trainTarget = np.loadtxt(\"trainTargetBinary.csv\")\n",
    "testInput = np.loadtxt(\"testInputBinary.csv\")\n",
    "testTarget = np.loadtxt(\"testTargetBinary.csv\")"
   ]
  },
  {
   "cell_type": "code",
   "execution_count": 3,
   "metadata": {},
   "outputs": [
    {
     "name": "stdout",
     "output_type": "stream",
     "text": [
      "Train set shape:  (297, 186)\n",
      "Train labels size:  (297,)\n",
      "Test set shape:  (231, 186)\n",
      "Test labels size:  (231,)\n"
     ]
    }
   ],
   "source": [
    "print('Train set shape: ', trainInput.shape); print('Train labels size: ', trainTarget.shape)\n",
    "print('Test set shape: ', testInput.shape); print('Test labels size: ', testTarget.shape)"
   ]
  },
  {
   "cell_type": "code",
   "execution_count": 4,
   "metadata": {},
   "outputs": [],
   "source": [
    "# Gaussian kernel: exp(−γ|x−z|2)\n",
    "\n",
    "from statistics import median\n",
    "\n",
    "x = trainInput\n",
    "y = trainTarget\n",
    "\n",
    "def distance(a,b):       \n",
    "    return np.sqrt(np.sum((a-b)**2))\n",
    "\n",
    "# Jaakkola’s heuristic to estimate a good starting value of gamma \n",
    "def jaakkola(x,y):\n",
    "    distances = []\n",
    "    dist_min = 1\n",
    "    for i in range(x.shape[0]):\n",
    "        for j in range(x.shape[0]):\n",
    "            if y[i] != y[j]:\n",
    "                dist = distance(x[i,:], x[j,:])\n",
    "                if dist < dist_min:\n",
    "                    dist_min = dist\n",
    "        distances.append(dist_min)\n",
    "    \n",
    "    return median(distances), distances\n",
    "\n",
    "sigma, d = jaakkola(x, y)"
   ]
  },
  {
   "cell_type": "code",
   "execution_count": 5,
   "metadata": {},
   "outputs": [
    {
     "data": {
      "text/plain": [
       "0.1110425510347691"
      ]
     },
     "execution_count": 5,
     "metadata": {},
     "output_type": "execute_result"
    }
   ],
   "source": [
    "sigma"
   ]
  },
  {
   "cell_type": "code",
   "execution_count": 6,
   "metadata": {},
   "outputs": [],
   "source": [
    "# Converting the data to libsvm format\n",
    "dump_svmlight_file(trainInput, trainTarget,'train.dat', zero_based=False, multilabel=False)\n",
    "dump_svmlight_file(testInput, testTarget,'test.dat')"
   ]
  },
  {
   "cell_type": "code",
   "execution_count": 7,
   "metadata": {},
   "outputs": [
    {
     "name": "stdout",
     "output_type": "stream",
     "text": [
      "Accuracy = 84.1751% (250/297) (classification)\n",
      "Accuracy = 84.1751% (250/297) (classification)\n",
      "Accuracy = 84.1751% (250/297) (classification)\n",
      "Accuracy = 84.1751% (250/297) (classification)\n",
      "Accuracy = 84.1751% (250/297) (classification)\n",
      "Accuracy = 84.1751% (250/297) (classification)\n",
      "Accuracy = 84.1751% (250/297) (classification)\n",
      "Accuracy = 84.1751% (250/297) (classification)\n",
      "Accuracy = 84.1751% (250/297) (classification)\n",
      "Accuracy = 84.1751% (250/297) (classification)\n",
      "Accuracy = 84.1751% (250/297) (classification)\n",
      "Accuracy = 84.1751% (250/297) (classification)\n",
      "Accuracy = 84.1751% (250/297) (classification)\n",
      "Accuracy = 84.1751% (250/297) (classification)\n",
      "Accuracy = 84.1751% (250/297) (classification)\n",
      "Accuracy = 84.1751% (250/297) (classification)\n",
      "Accuracy = 84.1751% (250/297) (classification)\n",
      "Accuracy = 84.1751% (250/297) (classification)\n",
      "Accuracy = 84.1751% (250/297) (classification)\n",
      "Accuracy = 84.1751% (250/297) (classification)\n",
      "Accuracy = 84.1751% (250/297) (classification)\n",
      "Accuracy = 90.9091% (270/297) (classification)\n",
      "Accuracy = 90.9091% (270/297) (classification)\n",
      "Accuracy = 90.9091% (270/297) (classification)\n",
      "Accuracy = 90.9091% (270/297) (classification)\n",
      "Accuracy = 90.9091% (270/297) (classification)\n",
      "Accuracy = 90.9091% (270/297) (classification)\n",
      "Accuracy = 90.9091% (270/297) (classification)\n",
      "Accuracy = 98.3165% (292/297) (classification)\n",
      "Accuracy = 98.3165% (292/297) (classification)\n",
      "Accuracy = 98.3165% (292/297) (classification)\n",
      "Accuracy = 98.3165% (292/297) (classification)\n",
      "Accuracy = 98.3165% (292/297) (classification)\n",
      "Accuracy = 98.3165% (292/297) (classification)\n",
      "Accuracy = 98.3165% (292/297) (classification)\n",
      "C:  1000 gamma:  0.0001 MSE:  0.091 Accuracy:  98.32\n"
     ]
    }
   ],
   "source": [
    "# Binary classiﬁcation using support vector machines with Libsvm library\n",
    "\n",
    "y, x = svm_read_problem('train.dat')\n",
    "\n",
    "# Hyperparameters C and gamma\n",
    "c = [pow(10,i) for i in [-1,0,1,2,3]]\n",
    "g = [round(sigma*pow(10,i), 4) for i in [-3,-2,-1,0,1,2,3]]\n",
    "\n",
    "prob  = svm_problem(y, x)\n",
    "param = svm_parameter()\n",
    "best = 1\n",
    "err = []\n",
    "\n",
    "# Grid-search to determine the SVM hyperparameters γ and C, \n",
    "# using 5-fold cross validation and the classiﬁcation error \n",
    "for i in range(len(c)):\n",
    "    for j in range(len(g)):\n",
    "        param.C = c[i]; param.G = g[j]; \n",
    "        model = svm_train(prob, param, '-v 5')\n",
    "        p_label, p_acc, p_val = svm_predict(y, x, model)\n",
    "        err.append(p_acc[1])\n",
    "        # Mean squared error \n",
    "        mse = p_acc[1]\n",
    "        if (mse < best):\n",
    "            bestc = c[i]; bestg = g[j]; min_err = best; best = mse; acc=p_acc[0]\n",
    "\n",
    "print('C: ', bestc, 'gamma: ', bestg, 'MSE: ', round(min_err,3), 'Accuracy: ', round(acc,2))"
   ]
  },
  {
   "cell_type": "code",
   "execution_count": 8,
   "metadata": {},
   "outputs": [],
   "source": [
    "def run(y, x, model):\n",
    "    p_label, p_acc, p_val = svm_predict(y, x, model)\n",
    "    return p_label, p_acc, p_val"
   ]
  },
  {
   "cell_type": "code",
   "execution_count": 9,
   "metadata": {},
   "outputs": [
    {
     "name": "stdout",
     "output_type": "stream",
     "text": [
      "Accuracy = 98.3165% (292/297) (classification)\n",
      "MSE Train:  0.017\n"
     ]
    }
   ],
   "source": [
    "# Training with best pair C & gamma found\n",
    "\n",
    "y_train, x_train = svm_read_problem('train.dat')\n",
    "pb = svm_problem(y_train, x_train)\n",
    "param = svm_parameter()\n",
    "param.C=bestc; param.G=bestg\n",
    "m = svm_train(pb, param)\n",
    "\n",
    "labels, acc, vals = run(y_train, x_train, m)\n",
    "print(\"MSE Train: \", round(acc[1], 3))"
   ]
  },
  {
   "cell_type": "code",
   "execution_count": 10,
   "metadata": {},
   "outputs": [
    {
     "name": "stdout",
     "output_type": "stream",
     "text": [
      "Accuracy = 78.7879% (182/231) (classification)\n",
      "MSE test:  0.212\n"
     ]
    }
   ],
   "source": [
    "# Model in Test\n",
    "\n",
    "y_test, x_test = svm_read_problem('test.dat')\n",
    "lab, ac, val= run(y_test, x_test, m)\n",
    "print(\"MSE test: \", round(ac[1], 3))"
   ]
  },
  {
   "cell_type": "code",
   "execution_count": 11,
   "metadata": {},
   "outputs": [
    {
     "data": {
      "image/png": "[encoded data removed]",
      "text/plain": [
       "<Figure size 792x216 with 1 Axes>"
      ]
     },
     "metadata": {},
     "output_type": "display_data"
    }
   ],
   "source": [
    "# Plot of model selection \n",
    "\n",
    "labels = ['C: ' + str(c[i]) + ', ' + 'g: ' + str(g[j]) for i in range(len(c)) for j in range(len(g))]\n",
    "x = list(range(1, len(c)*len(g)+1))\n",
    "\n",
    "style.use('seaborn')\n",
    "plt.figure(figsize=(11, 3))\n",
    "plt.xticks(x, labels, rotation='vertical', fontsize=11)\n",
    "plt.yticks(err, color='grey')\n",
    "plt.ylabel(\"MSE\", fontsize=11)\n",
    "plt.plot(x, err, '--', c='c')\n",
    "plt.title('SVM model selection with 5-CVfolds', fontsize=13)\n",
    "plt.xlim([0, 36])\n",
    "plt.ylim([0, 0.17])\n",
    "plt.show();"
   ]
  },
  {
   "cell_type": "code",
   "execution_count": null,
   "metadata": {},
   "outputs": [],
   "source": []
  }
 ],
 "metadata": {
  "kernelspec": {
   "display_name": "Python 3",
   "language": "python",
   "name": "python3"
  },
  "language_info": {
   "codemirror_mode": {
    "name": "ipython",
    "version": 3
   },
   "file_extension": ".py",
   "mimetype": "text/x-python",
   "name": "python",
   "nbconvert_exporter": "python",
   "pygments_lexer": "ipython3",
   "version": "3.6.5"
  }
 },
 "nbformat": 4,
 "nbformat_minor": 2
}
